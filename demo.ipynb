{
  "cells": [
    {
      "cell_type": "code",
      "execution_count": 15,
      "metadata": {
        "id": "r7qSjXA_6nP-"
      },
      "outputs": [],
      "source": [
        "from itertools import combinations\n",
        "\n",
        "import pandas as pd\n",
        "import numpy as np\n",
        "import scipy.stats as stats\n",
        " \n",
        "import matplotlib.pyplot as plt\n",
        "import seaborn as sns"
      ]
    },
    {
      "cell_type": "markdown",
      "metadata": {},
      "source": [
        "In this notebook, we will demonstrate different properties of the Big-Five Backstage dataset and show some potential applications mentioned [in our paper](). \n",
        "\n",
        "First, let's dive into the structure of the dataset:\n",
        "- dataset/big-five_backstage.csv - the main dataset file including lines of characters, their names, genders and Big-Five traits. It also contains author names and play titles.\n",
        "- dataset/big-five_backstage_extended.csv - the extended dataset mirroring the content of the main one + pre-computed values of MRC and LIWC lingustic markers.\n",
        "\n",
        "Additionally, we provide real-world references for certain statistics computerd further: \n",
        "- supplementary/big-five_ling_markers_corr.csv - correlation between Big-Five traits and LIWC markers for texts produced in the real-world setting.   \n",
        "- supplementary/gender_effect_size.csv - Cohen's d of LIWC markers for texts produced in the real-world setting."
      ]
    },
    {
      "cell_type": "code",
      "execution_count": 4,
      "metadata": {},
      "outputs": [],
      "source": [
        "# load the dataset\n",
        "ds_full = pd.read_csv('./dataset/Big-Five_Backstage_extended_temp.csv')"
      ]
    },
    {
      "cell_type": "markdown",
      "metadata": {},
      "source": [
        "For convinience, it will be better to convert gender labels to numerical:"
      ]
    },
    {
      "cell_type": "code",
      "execution_count": 5,
      "metadata": {},
      "outputs": [],
      "source": [
        "ds_full['gender'] = ds_full['gender'].replace('M', 1)\n",
        "ds_full['gender'] = ds_full['gender'].replace('F', 0)"
      ]
    },
    {
      "cell_type": "markdown",
      "metadata": {
        "id": "Va0A8DIJ-c4C"
      },
      "source": [
        "### Gender analysis"
      ]
    },
    {
      "cell_type": "markdown",
      "metadata": {},
      "source": [
        "To illustrate properties of the characters' texts, it will be good idea to show how they can be compared to the ones produced by real people."
      ]
    },
    {
      "cell_type": "code",
      "execution_count": 6,
      "metadata": {},
      "outputs": [],
      "source": [
        "from utils import cohen_d, mann_whitney_u, is_correct, d_corresp\n",
        "\n",
        "baseline = pd.read_csv('./supplementary/gender_effect_size.csv', sep=';') # loading Cohen's d for real people\n",
        "ling_markers = list(baseline['feature'])"
      ]
    },
    {
      "cell_type": "markdown",
      "metadata": {},
      "source": [
        "Let's consder to check the fraction of males and females in the dataset: as it can be seen from the barchart, it lacks balance towards the women side."
      ]
    },
    {
      "cell_type": "code",
      "execution_count": 7,
      "metadata": {},
      "outputs": [
        {
          "data": {
            "image/png": "[encoded data removed]",
            "text/plain": [
              "<Figure size 500x600 with 1 Axes>"
            ]
          },
          "metadata": {},
          "output_type": "display_data"
        }
      ],
      "source": [
        "fractions_g_male = len(ds_full[ds_full['gender'] == 1])/len(ds_full)\n",
        "fractions_g_female = 1 - fractions_g_male\n",
        "\n",
        "X_axis = np.arange(1) \n",
        "\n",
        "plt.figure(figsize=(5,6))\n",
        "\n",
        "bars_pos = plt.bar(X_axis - 0.2, fractions_g_male, 0.4, label='male', alpha=0.5)\n",
        "bars_neg = plt.bar(X_axis + 0.2, fractions_g_female, 0.4, label='female', alpha=0.5)\n",
        "\n",
        "plt.xticks(X_axis, ['gender'])\n",
        "plt.ylim(0, 1)\n",
        "plt.legend(loc='lower right', fontsize=16)\n",
        "plt.title('Fractions of males/females', fontsize=14)\n",
        "\n",
        "plt.show()"
      ]
    },
    {
      "cell_type": "markdown",
      "metadata": {},
      "source": [
        "We calculate p-value for each linguistic marker and then calculate Cohen's d for those showing statistical significance on the dataset.\n",
        "We then compare Cohen's d obtained for real people texts and for chraracters.\n",
        "P-value is set to alpha. We include authors who have at least two male and female characters."
      ]
    },
    {
      "cell_type": "code",
      "execution_count": null,
      "metadata": {},
      "outputs": [],
      "source": [
        "LIM, alpha = 2, 0.05 # set limit of characters for each author: no lesser than 2 males and females per author"
      ]
    },
    {
      "cell_type": "code",
      "execution_count": null,
      "metadata": {},
      "outputs": [],
      "source": [
        "d_sign = {} # dict for authors, where keys are names of statistically significant LMs, and values are cohen's Ds.\n",
        "\n",
        "d_sign_reversed_markers = {} # markers showing statistical difference but reversed to real world (having the opposite tendency of words usage by males and females)\n",
        "\n",
        "trait = 'gender' # choose a trait for comparison\n",
        "authors = set(ds_full['author'])\n",
        "\n",
        "for author in authors:\n",
        "  ds = ds_full[ds_full['author'] == author]\n",
        "\n",
        "  if len(ds[ds[trait] == 1]) < LIM or len(ds[ds[trait] == 0]) < LIM: # checks if there are at least two samples in a trait\n",
        "    continue\n",
        "\n",
        "  d_sign[author] = {}\n",
        "  d_sign_reversed_markers[author] = {}\n",
        "\n",
        "  for marker in ling_markers:\n",
        "    u, pval = mann_whitney_u(ds, trait, marker) # calculate p-value\n",
        "    if pval > alpha: # checks significance of the sample difference\n",
        "      continue\n",
        "\n",
        "    d = cohen_d(ds, trait, marker)\n",
        "    if is_correct(ds, baseline, trait, marker):  # checks whether marker correspond to the real world or not (= has the same sign of difference)   \n",
        "      d_sign[author][marker] = d\n",
        "    else:\n",
        "      d_sign[author][marker] = d\n",
        "      d_sign_reversed_markers[author][marker] = d"
      ]
    },
    {
      "cell_type": "markdown",
      "metadata": {},
      "source": [
        "Calculate statistically significant correlation between Cohen's d for people and Cohen's d for fictional character"
      ]
    },
    {
      "cell_type": "code",
      "execution_count": null,
      "metadata": {},
      "outputs": [
        {
          "name": "stdout",
          "output_type": "stream",
          "text": [
            "16\n"
          ]
        }
      ],
      "source": [
        "corr_sign, corr_nonsign = 0, 0\n",
        "correlation_for_authors = {} # correlation coefficients beween linguistic markers for each author\n",
        "\n",
        "for author in d_sign:\n",
        "  if d_sign[author]:\n",
        "    real, fict, names = d_corresp(baseline, d_sign[author]) # establishes correspondence between Cohen's d of fictional and real people\n",
        "    if (len(real) < LIM) or (len(fict) < LIM):\n",
        "      continue\n",
        "    corr_coefficient, p_value = stats.pearsonr(fict, real)\n",
        "\n",
        "    if p_value < alpha:\n",
        "      corr_sign += 1\n",
        "      correlation_for_authors[author] = corr_coefficient\n",
        "    else:\n",
        "      corr_nonsign += 1\n",
        "\n",
        "correlation_for_authors = dict(sorted(correlation_for_authors.items(), key=lambda item: item[1], reverse=True))\n",
        "print(f'Number of significant correlations: {corr_sign}')"
      ]
    },
    {
      "cell_type": "markdown",
      "metadata": {},
      "source": [
        "Show correlation between linguistic markers in Strindberg.\n",
        "Mark most frequent linguistic markers among different authors showing statictically significant difference for genders "
      ]
    },
    {
      "cell_type": "code",
      "execution_count": null,
      "metadata": {},
      "outputs": [
        {
          "data": {
            "image/png": "[encoded data removed]",
            "text/plain": [
              "<Figure size 432x396 with 1 Axes>"
            ]
          },
          "metadata": {
            "needs_background": "light"
          },
          "output_type": "display_data"
        }
      ],
      "source": [
        "markers_sign = ['negate', 'article', 'prep', 'BigWords', 'cogproc', 'Social'] # these 6 markers are statistically significant for the whole dataset\n",
        "author = 'STRINDBERG' # author example\n",
        "\n",
        "b_line, data, names = d_corresp(baseline, d_sign[author])\n",
        "\n",
        "xlim, ylim = 0.7, 0.7\n",
        "\n",
        "plt.figure(figsize=(6, 5.5))\n",
        "x1 = np.linspace(-xlim, xlim, 100)\n",
        "y1 = x1 \n",
        "\n",
        "# color exaggeration area\n",
        "plt.fill_between(x1, y1, xlim, where=(x1 >= 0), color=\"lightblue\", alpha=0.25, label=\"Area between y=x and y=0\")\n",
        "plt.fill_between(x1, y1, -xlim, where=(y1 < 0), color=\"lightblue\", alpha=0.25, label=\"Area between y=x and y=0\")\n",
        "\n",
        "plt.scatter(b_line, data, c='blue', alpha=0.7, marker='o', label='Data Points', edgecolor='blue', s=10)\n",
        "plt.xlabel('real people')\n",
        "plt.ylabel('fiction')\n",
        "\n",
        "# color dots, add text\n",
        "for marker,point in zip(names,zip(b_line, data)):\n",
        "  if point[0] * point[1] < 0:\n",
        "    plt.scatter([point[0]], [point[1]], c='pink', alpha=0.7, marker='o', label='Data Points', edgecolor='red', s=10)\n",
        "  if marker in markers_sign:\n",
        "    plt.scatter([point[0]], [point[1]], c='lightblue', marker='D', label='Data Points', edgecolor='blue', s=15)\n",
        "\n",
        "  # add text\n",
        "  plt.text(point[0] + 0.02, point[1], marker, fontsize=6)\n",
        "\n",
        "\n",
        "plt.xlim(-xlim, xlim)  # Set x-axis limits\n",
        "plt.ylim(-xlim, xlim)  # Set y-axis limits\n",
        "\n",
        "plt.axhline(color='lightblue', linestyle='dotted', alpha=0.5)\n",
        "plt.axvline(color='lightblue', linestyle='dotted', alpha=0.5)\n",
        "\n",
        "plt.plot([-xlim, xlim], [-xlim, xlim], color='lightblue', linestyle='dotted', label='Diagonal Line (y=x)')\n",
        "\n",
        "# plot a correlation line\n",
        "slope, intercept = np.polyfit(b_line, data, 1)\n",
        "x = np.linspace(-xlim, xlim, 100)\n",
        "y = slope * x + intercept\n",
        "plt.plot(x, y, color='r', linestyle=':', alpha=0.6)\n",
        "\n",
        "plt.title(f'regression equation: {slope}x + {intercept}, correlation value: {round(correlation_for_authors[author], 4)}')\n",
        "\n",
        "plt.show()"
      ]
    },
    {
      "cell_type": "markdown",
      "metadata": {
        "id": "Va0A8DIJ-c4C"
      },
      "source": [
        "### Personality traits"
      ]
    },
    {
      "cell_type": "markdown",
      "metadata": {},
      "source": [
        "Next, we load the file with a list of linguistic markers showing significant difference on at least one trait in people:"
      ]
    },
    {
      "cell_type": "code",
      "execution_count": null,
      "metadata": {},
      "outputs": [],
      "source": [
        "from utils import pb_corr_full, pb_corr_author\n",
        "\n",
        "baseline = pd.read_csv('./supplementary/big-five_ling_markers_corr.csv', delimiter=';').dropna() # Penne essays\n",
        "markers = list(baseline['trait'])"
      ]
    },
    {
      "cell_type": "markdown",
      "metadata": {},
      "source": [
        "As the core of our demonstratiopn, we will need the extended dataset and auxiliary files from the supplementary folder."
      ]
    },
    {
      "cell_type": "code",
      "execution_count": null,
      "metadata": {
        "id": "lgnodVJg-cOf"
      },
      "outputs": [
        {
          "name": "stdout",
          "output_type": "stream",
          "text": [
            "['Extraversion', 'Agreeableness', 'Openness', 'Neuroticism', 'Conscientiousness']\n"
          ]
        }
      ],
      "source": [
        "# load the dataset\n",
        "ds_full = pd.read_csv('./dataset/Big-Five_Backstage_extended_temp.csv')\n",
        "\n",
        "# get names of the Big-Five traits \n",
        "traits = list(ds_full.columns[-5:]) \n",
        "print(traits)"
      ]
    },
    {
      "cell_type": "markdown",
      "metadata": {},
      "source": [
        "Some general statistics useful for understanding of the dataset scale: "
      ]
    },
    {
      "cell_type": "code",
      "execution_count": null,
      "metadata": {
        "colab": {
          "base_uri": "https://localhost:8080/"
        },
        "id": "SBUGmuq14a1P",
        "outputId": "e931cfdb-555f-4848-d4c0-97100e5a2f14"
      },
      "outputs": [
        {
          "name": "stdout",
          "output_type": "stream",
          "text": [
            "Number of characters: 3258; word count 3418387; mean nunber of words per character 1049.2286678944138.\n"
          ]
        }
      ],
      "source": [
        "print(f\"Number of characters: {len(ds_full)}; word count {sum(ds_full['WC'])}; mean nunber of words per character {ds_full['WC'].mean()}.\") "
      ]
    },
    {
      "cell_type": "markdown",
      "metadata": {},
      "source": [
        "It is be benefitical to consider the balance in each trait as it is crucial for ML pipelines:"
      ]
    },
    {
      "cell_type": "code",
      "execution_count": null,
      "metadata": {},
      "outputs": [
        {
          "data": {
            "image/png": "[encoded data removed]",
            "text/plain": [
              "<Figure size 720x432 with 1 Axes>"
            ]
          },
          "metadata": {
            "needs_background": "light"
          },
          "output_type": "display_data"
        }
      ],
      "source": [
        "fractions_t_pos = np.array([len(ds_full[ds_full[trait] == 1])/len(ds_full) for trait in traits])\n",
        "fractions_t_neg = 1 - fractions_t_pos\n",
        "\n",
        "X_axis = np.arange(len(fractions_t_pos)) \n",
        "\n",
        "plt.figure(figsize=(10,6))\n",
        "\n",
        "bars_pos = plt.bar(X_axis - 0.2, fractions_t_pos, 0.4, label='1 (trait presence)', alpha=0.5)\n",
        "bars_neg = plt.bar(X_axis + 0.2, fractions_t_neg, 0.4, label='0 (trait absence)', alpha=0.5)\n",
        "\n",
        "plt.xticks(X_axis, traits)\n",
        "plt.ylim(0, 1)\n",
        "plt.legend(loc='lower right', fontsize=16)\n",
        "plt.title('Fraction of traits in the Big-Five dataset', fontsize=14)\n",
        "\n",
        "plt.show()"
      ]
    },
    {
      "cell_type": "markdown",
      "metadata": {},
      "source": [
        "As it can be seen, most of the traits (except Openness) tend to be less presented among the chosen plays' characters."
      ]
    },
    {
      "cell_type": "markdown",
      "metadata": {
        "id": "M8BxeoCaaVD_"
      },
      "source": [
        "### Correlation between linguistic markers and Big-Five traits"
      ]
    },
    {
      "cell_type": "markdown",
      "metadata": {},
      "source": [
        "As the first part of the analysis, we will show some correlactions in our dataset (and provide possible explanations of observed dependencies). \n",
        "\n",
        "As long as the personal traits are represented as binary variables, we cannot consider standard Pearson $r_{xy}$ or Spearman $r_{s}$ correlation. Instead, we will apply special extension of $r_{xy}$ known as _point-biserial correlation_.  "
      ]
    },
    {
      "cell_type": "markdown",
      "metadata": {},
      "source": [
        "Let's extract the values of statistically significant correlactions. We are going to do it with the whole dataset and each trait:"
      ]
    },
    {
      "cell_type": "code",
      "execution_count": null,
      "metadata": {
        "colab": {
          "base_uri": "https://localhost:8080/"
        },
        "id": "Ez_FFiuMRJ5b",
        "outputId": "1f6ccdf0-a244-4c6a-885d-de4fc918692c"
      },
      "outputs": [],
      "source": [
        "traits_stat = {}\n",
        "\n",
        "for trait in traits:\n",
        "  markers_corr = pb_corr_full(ds_full, trait, markers)\n",
        "  markers_corr = dict(sorted(markers_corr.items(), key=lambda item: item[1], reverse=True))\n",
        "  traits_stat[trait] = markers_corr"
      ]
    },
    {
      "cell_type": "markdown",
      "metadata": {},
      "source": [
        "It is interesting to observe which markers have a statistical significance for all 5 considered traits. So: "
      ]
    },
    {
      "cell_type": "code",
      "execution_count": null,
      "metadata": {},
      "outputs": [
        {
          "name": "stdout",
          "output_type": "stream",
          "text": [
            "WC\n",
            "AllPunc\n",
            "pronoun\n",
            "emo_neg\n"
          ]
        }
      ],
      "source": [
        "intersection_5 = set.intersection(*[set(traits_stat[trait]) for trait in traits])\n",
        "print(*intersection_5, sep = '\\n')"
      ]
    },
    {
      "cell_type": "markdown",
      "metadata": {},
      "source": [
        "The same thing can be done for the markers exhibiting statistical difference for 4 traits:  "
      ]
    },
    {
      "cell_type": "code",
      "execution_count": null,
      "metadata": {},
      "outputs": [
        {
          "name": "stdout",
          "output_type": "stream",
          "text": [
            "you\n",
            "K-F-FREQ\n",
            "AllPunc\n",
            "AOA\n",
            "emo_pos\n",
            "K-F-NCATS\n",
            "negate\n",
            "nonflu\n",
            "leisure\n",
            "T-L-FREQ\n",
            "death\n",
            "MEANC\n",
            "relig\n",
            "auditory\n",
            "BROWN-FREQ\n",
            "Social\n",
            "emo_anger\n",
            "MEANP\n",
            "CONC\n",
            "Affect\n",
            "assent\n",
            "WPS\n",
            "emo_neg\n",
            "Exclam\n",
            "Apostro\n",
            "WC\n",
            "pronoun\n",
            "NPHON\n",
            "article\n"
          ]
        }
      ],
      "source": [
        "intersection_4_list = combinations(traits, 4)\n",
        "intersection_4 = set\n",
        "\n",
        "for item in intersection_4_list:\n",
        "    result = set.intersection(*[set(traits_stat[trait]) for trait in item])\n",
        "    intersection_4 = intersection_4.union(result)\n",
        "\n",
        "print(*intersection_4, sep = '\\n')"
      ]
    },
    {
      "cell_type": "markdown",
      "metadata": {},
      "source": [
        "These markers and corresponding correlation values can be effectively represented as a heatmap: "
      ]
    },
    {
      "cell_type": "code",
      "execution_count": null,
      "metadata": {
        "id": "zfpg2TFXWDvH"
      },
      "outputs": [],
      "source": [
        "heatmap = {'marker':[], **{trait:[] for trait in traits}}\n",
        "\n",
        "for marker in intersection_5:\n",
        "  heatmap['marker'].append(marker)\n",
        "\n",
        "  for trait in traits_stat:\n",
        "    if marker in traits_stat[trait]:\n",
        "      heatmap[trait].append(traits_stat[trait][marker])\n",
        "    else:\n",
        "      heatmap[trait].append(0)"
      ]
    },
    {
      "cell_type": "code",
      "execution_count": null,
      "metadata": {
        "colab": {
          "base_uri": "https://localhost:8080/"
        },
        "id": "BNUIJfjMWD7B",
        "outputId": "b20c2240-837c-4c07-da7a-f24256652020"
      },
      "outputs": [
        {
          "name": "stderr",
          "output_type": "stream",
          "text": [
            "/var/folders/63/bs2t6x0j25s1wrgwd4kwyzzr0000gn/T/ipykernel_77562/2080581248.py:3: FutureWarning: Dropping of nuisance columns in DataFrame reductions (with 'numeric_only=None') is deprecated; in a future version this will raise TypeError.  Select only valid columns before calling the reduction.\n",
            "  heatmap_ds['RowSum'] = heatmap_ds.sum(axis=1)\n"
          ]
        }
      ],
      "source": [
        "heatmap_ds = pd.DataFrame(heatmap, columns=heatmap.keys())\n",
        "\n",
        "heatmap_ds['RowSum'] = heatmap_ds.sum(axis=1)\n",
        "\n",
        "# Sort the DataFrame by the 'RowSum' column in descending order\n",
        "df_sorted = heatmap_ds.sort_values(by='RowSum', ascending=False)\n",
        "\n",
        "# Drop the 'RowSum' column if it's not needed\n",
        "df_sorted = df_sorted.drop('RowSum', axis=1)\n",
        "\n",
        "markers_heatmap = df_sorted['marker']\n",
        "df_sorted = df_sorted.drop('marker', axis=1)"
      ]
    },
    {
      "cell_type": "code",
      "execution_count": null,
      "metadata": {
        "colab": {
          "base_uri": "https://localhost:8080/",
          "height": 297
        },
        "id": "tSX-LBNoXrzE",
        "outputId": "d1b32ca0-75d4-4d5f-b453-acee091bafdb"
      },
      "outputs": [
        {
          "data": {
            "image/png": "[encoded data removed]",
            "text/plain": [
              "<Figure size 360x360 with 2 Axes>"
            ]
          },
          "metadata": {
            "needs_background": "light"
          },
          "output_type": "display_data"
        }
      ],
      "source": [
        "plt.figure(figsize=(5, 5))\n",
        "\n",
        "ax = sns.heatmap(df_sorted.values.T, linewidth = 0, cmap=\"PRGn_r\", vmin=-.25, vmax=.25) #interpolation='nearest', aspect='auto', extent=[0, 10, 0, 10]\n",
        "ax.set_xticklabels(list(markers_heatmap), rotation=60)\n",
        "ax.set_yticklabels(list(df_sorted.columns), rotation=0)\n",
        "\n",
        "plt.show()"
      ]
    },
    {
      "cell_type": "markdown",
      "metadata": {},
      "source": [
        "### Bar charts"
      ]
    },
    {
      "cell_type": "markdown",
      "metadata": {},
      "source": [
        "As the addition, we always can proide some usage statistics of the most demanded markers among authors. For example, it can useful to have a number of authors with at least one significant marker in at least one trait:"
      ]
    },
    {
      "cell_type": "code",
      "execution_count": null,
      "metadata": {
        "id": "UEhJLh_Meezo"
      },
      "outputs": [
        {
          "name": "stderr",
          "output_type": "stream",
          "text": [
            "/Applications/anaconda3/lib/python3.9/site-packages/scipy/stats/stats.py:4023: PearsonRConstantInputWarning: An input array is constant; the correlation coefficient is not defined.\n",
            "  warnings.warn(PearsonRConstantInputWarning())\n"
          ]
        },
        {
          "name": "stdout",
          "output_type": "stream",
          "text": [
            "Extraversion 43\n",
            "Agreeableness 33\n",
            "Openness 39\n",
            "Neuroticism 43\n",
            "Conscientiousness 41\n"
          ]
        }
      ],
      "source": [
        "traits_stat = {}\n",
        "traits_stat_by_author = {}\n",
        "all_features = []\n",
        "\n",
        "for trait in traits:\n",
        "  markers_corr = list((pb_corr_full(ds_full, trait, markers)).keys())\n",
        "  traits_stat[trait] = markers_corr\n",
        "  traits_stat_by_author[trait] = pb_corr_author(ds_full, trait, markers)\n",
        "  all_features += markers_corr\n",
        "  print(trait, len(markers_corr))"
      ]
    },
    {
      "cell_type": "markdown",
      "metadata": {},
      "source": [
        "This can be demonstrated for the previously obtained markers with at least 4 statistically significant correlations among all traits:"
      ]
    },
    {
      "cell_type": "code",
      "execution_count": null,
      "metadata": {
        "colab": {
          "base_uri": "https://localhost:8080/"
        },
        "id": "SbwdToY4BIMs",
        "outputId": "d52c1a9c-5fab-4708-9a15-74388cc43ed1"
      },
      "outputs": [],
      "source": [
        "target_markers = intersection_4"
      ]
    },
    {
      "cell_type": "code",
      "execution_count": null,
      "metadata": {
        "colab": {
          "base_uri": "https://localhost:8080/"
        },
        "id": "GBlRzxJV7Yix",
        "outputId": "c392a985-3617-46e1-a4a9-6a6f237a6fa6"
      },
      "outputs": [],
      "source": [
        "LM_sign = {}\n",
        "authors_sign = {} # number of authors with at least one significant LM on at least one trait\n",
        "\n",
        "for trait in traits_stat_by_author:\n",
        "  for author in traits_stat_by_author[trait]:\n",
        "    if author in authors_sign:\n",
        "      authors_sign[author] += traits_stat_by_author[trait][author]\n",
        "    else:\n",
        "      authors_sign[author] = traits_stat_by_author[trait][author]\n",
        "\n",
        "nonzero_authors = 0\n",
        "for author in authors_sign:\n",
        "  if len(authors_sign[author]) > 0:\n",
        "    nonzero_authors += 1\n",
        "\n",
        "for marker in target_markers:\n",
        "  LM_sign[marker] = 0\n",
        "  for author in authors_sign:\n",
        "    if marker in authors_sign[author]:\n",
        "      LM_sign[marker] += 1\n",
        "\n",
        "  LM_sign[marker] = round(LM_sign[marker] / nonzero_authors, 3) # normalization"
      ]
    },
    {
      "cell_type": "code",
      "execution_count": null,
      "metadata": {
        "colab": {
          "base_uri": "https://localhost:8080/",
          "height": 338
        },
        "id": "NjI4Yi4-8RuM",
        "outputId": "545b1d84-6f07-4003-8461-6d566d0e6f88"
      },
      "outputs": [
        {
          "data": {
            "image/png": "[encoded data removed]",
            "text/plain": [
              "<Figure size 720x216 with 1 Axes>"
            ]
          },
          "metadata": {
            "needs_background": "light"
          },
          "output_type": "display_data"
        }
      ],
      "source": [
        "plt.figure(figsize=(10, 3))\n",
        "\n",
        "plt.bar(list(LM_sign.keys()), list(LM_sign.values()), color='blue', alpha=0.7)\n",
        "plt.xticks(rotation=90)\n",
        "\n",
        "plt.xlabel('Linguistic marker')\n",
        "plt.ylabel('Fraction of authors')\n",
        "\n",
        "plt.show()"
      ]
    },
    {
      "cell_type": "markdown",
      "metadata": {},
      "source": [
        "You just reached the end! If you have any questions, feel free to ask them via Issues page of our GitHub repo.  "
      ]
    }
  ],
  "metadata": {
    "accelerator": "GPU",
    "colab": {
      "gpuType": "T4",
      "machine_shape": "hm",
      "provenance": []
    },
    "kernelspec": {
      "display_name": "Python 3.9.12 ('base')",
      "language": "python",
      "name": "python3"
    },
    "language_info": {
      "codemirror_mode": {
        "name": "ipython",
        "version": 3
      },
      "file_extension": ".py",
      "mimetype": "text/x-python",
      "name": "python",
      "nbconvert_exporter": "python",
      "pygments_lexer": "ipython3",
      "version": "3.11.5"
    },
    "vscode": {
      "interpreter": {
        "hash": "cd78fef2128015050713e82ca51c6520b11aee7c9ee8df750520bbbc7384cbaa"
      }
    }
  },
  "nbformat": 4,
  "nbformat_minor": 0
}
